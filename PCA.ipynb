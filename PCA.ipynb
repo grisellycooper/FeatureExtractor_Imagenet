{
 "cells": [
  {
   "cell_type": "code",
   "execution_count": 3,
   "metadata": {},
   "outputs": [],
   "source": [
    "import pandas as pd\n",
    "import csv\n",
    "import numpy as np\n",
    "import matplotlib.pyplot as plt\n",
    "\n",
    "from sklearn.decomposition import PCA\n",
    "from sklearn.preprocessing import MinMaxScaler\n",
    "from sklearn.metrics import mean_squared_error"
   ]
  },
  {
   "cell_type": "code",
   "execution_count": 20,
   "metadata": {},
   "outputs": [],
   "source": [
    "csvfilename = \"calculated_features/awe-awet_lpq.csv\"\n",
    "data = pd.read_csv(csvfilename)\n",
    "X = data.drop('class', axis=1)  \n",
    "y = data['class']"
   ]
  },
  {
   "cell_type": "code",
   "execution_count": 21,
   "metadata": {},
   "outputs": [
    {
     "data": {
      "text/html": [
       "<div>\n",
       "<style scoped>\n",
       "    .dataframe tbody tr th:only-of-type {\n",
       "        vertical-align: middle;\n",
       "    }\n",
       "\n",
       "    .dataframe tbody tr th {\n",
       "        vertical-align: top;\n",
       "    }\n",
       "\n",
       "    .dataframe thead th {\n",
       "        text-align: right;\n",
       "    }\n",
       "</style>\n",
       "<table border=\"1\" class=\"dataframe\">\n",
       "  <thead>\n",
       "    <tr style=\"text-align: right;\">\n",
       "      <th></th>\n",
       "      <th>v1</th>\n",
       "      <th>v2</th>\n",
       "      <th>v3</th>\n",
       "      <th>v4</th>\n",
       "      <th>v5</th>\n",
       "      <th>v6</th>\n",
       "      <th>v7</th>\n",
       "      <th>v8</th>\n",
       "      <th>v9</th>\n",
       "      <th>v10</th>\n",
       "      <th>...</th>\n",
       "      <th>v9207</th>\n",
       "      <th>v9208</th>\n",
       "      <th>v9209</th>\n",
       "      <th>v9210</th>\n",
       "      <th>v9211</th>\n",
       "      <th>v9212</th>\n",
       "      <th>v9213</th>\n",
       "      <th>v9214</th>\n",
       "      <th>v9215</th>\n",
       "      <th>v9216</th>\n",
       "    </tr>\n",
       "  </thead>\n",
       "  <tbody>\n",
       "    <tr>\n",
       "      <th>0</th>\n",
       "      <td>87</td>\n",
       "      <td>44</td>\n",
       "      <td>45</td>\n",
       "      <td>46</td>\n",
       "      <td>46</td>\n",
       "      <td>68</td>\n",
       "      <td>0</td>\n",
       "      <td>0</td>\n",
       "      <td>0</td>\n",
       "      <td>1</td>\n",
       "      <td>...</td>\n",
       "      <td>1</td>\n",
       "      <td>1</td>\n",
       "      <td>1</td>\n",
       "      <td>0</td>\n",
       "      <td>0</td>\n",
       "      <td>2</td>\n",
       "      <td>0</td>\n",
       "      <td>0</td>\n",
       "      <td>1</td>\n",
       "      <td>0</td>\n",
       "    </tr>\n",
       "    <tr>\n",
       "      <th>1</th>\n",
       "      <td>88</td>\n",
       "      <td>49</td>\n",
       "      <td>44</td>\n",
       "      <td>44</td>\n",
       "      <td>44</td>\n",
       "      <td>68</td>\n",
       "      <td>1</td>\n",
       "      <td>0</td>\n",
       "      <td>0</td>\n",
       "      <td>0</td>\n",
       "      <td>...</td>\n",
       "      <td>0</td>\n",
       "      <td>1</td>\n",
       "      <td>0</td>\n",
       "      <td>0</td>\n",
       "      <td>2</td>\n",
       "      <td>0</td>\n",
       "      <td>0</td>\n",
       "      <td>0</td>\n",
       "      <td>0</td>\n",
       "      <td>0</td>\n",
       "    </tr>\n",
       "    <tr>\n",
       "      <th>2</th>\n",
       "      <td>84</td>\n",
       "      <td>44</td>\n",
       "      <td>44</td>\n",
       "      <td>46</td>\n",
       "      <td>46</td>\n",
       "      <td>72</td>\n",
       "      <td>2</td>\n",
       "      <td>4</td>\n",
       "      <td>1</td>\n",
       "      <td>2</td>\n",
       "      <td>...</td>\n",
       "      <td>0</td>\n",
       "      <td>0</td>\n",
       "      <td>0</td>\n",
       "      <td>1</td>\n",
       "      <td>1</td>\n",
       "      <td>1</td>\n",
       "      <td>2</td>\n",
       "      <td>1</td>\n",
       "      <td>1</td>\n",
       "      <td>1</td>\n",
       "    </tr>\n",
       "    <tr>\n",
       "      <th>3</th>\n",
       "      <td>85</td>\n",
       "      <td>46</td>\n",
       "      <td>45</td>\n",
       "      <td>44</td>\n",
       "      <td>44</td>\n",
       "      <td>68</td>\n",
       "      <td>1</td>\n",
       "      <td>0</td>\n",
       "      <td>0</td>\n",
       "      <td>0</td>\n",
       "      <td>...</td>\n",
       "      <td>0</td>\n",
       "      <td>0</td>\n",
       "      <td>3</td>\n",
       "      <td>1</td>\n",
       "      <td>0</td>\n",
       "      <td>0</td>\n",
       "      <td>0</td>\n",
       "      <td>0</td>\n",
       "      <td>0</td>\n",
       "      <td>2</td>\n",
       "    </tr>\n",
       "    <tr>\n",
       "      <th>4</th>\n",
       "      <td>85</td>\n",
       "      <td>44</td>\n",
       "      <td>44</td>\n",
       "      <td>47</td>\n",
       "      <td>45</td>\n",
       "      <td>68</td>\n",
       "      <td>0</td>\n",
       "      <td>0</td>\n",
       "      <td>0</td>\n",
       "      <td>2</td>\n",
       "      <td>...</td>\n",
       "      <td>0</td>\n",
       "      <td>0</td>\n",
       "      <td>1</td>\n",
       "      <td>0</td>\n",
       "      <td>0</td>\n",
       "      <td>0</td>\n",
       "      <td>0</td>\n",
       "      <td>2</td>\n",
       "      <td>1</td>\n",
       "      <td>0</td>\n",
       "    </tr>\n",
       "  </tbody>\n",
       "</table>\n",
       "<p>5 rows × 9216 columns</p>\n",
       "</div>"
      ],
      "text/plain": [
       "   v1  v2  v3  v4  v5  v6  v7  v8  v9  v10  ...  v9207  v9208  v9209  v9210  \\\n",
       "0  87  44  45  46  46  68   0   0   0    1  ...      1      1      1      0   \n",
       "1  88  49  44  44  44  68   1   0   0    0  ...      0      1      0      0   \n",
       "2  84  44  44  46  46  72   2   4   1    2  ...      0      0      0      1   \n",
       "3  85  46  45  44  44  68   1   0   0    0  ...      0      0      3      1   \n",
       "4  85  44  44  47  45  68   0   0   0    2  ...      0      0      1      0   \n",
       "\n",
       "   v9211  v9212  v9213  v9214  v9215  v9216  \n",
       "0      0      2      0      0      1      0  \n",
       "1      2      0      0      0      0      0  \n",
       "2      1      1      2      1      1      1  \n",
       "3      0      0      0      0      0      2  \n",
       "4      0      0      0      2      1      0  \n",
       "\n",
       "[5 rows x 9216 columns]"
      ]
     },
     "execution_count": 21,
     "metadata": {},
     "output_type": "execute_result"
    }
   ],
   "source": [
    "X.head()"
   ]
  },
  {
   "cell_type": "code",
   "execution_count": 22,
   "metadata": {},
   "outputs": [
    {
     "data": {
      "text/plain": [
       "(1000, 9216)"
      ]
     },
     "execution_count": 22,
     "metadata": {},
     "output_type": "execute_result"
    }
   ],
   "source": [
    "X.shape"
   ]
  },
  {
   "cell_type": "code",
   "execution_count": 23,
   "metadata": {},
   "outputs": [
    {
     "data": {
      "text/plain": [
       "array([[87, 44, 45, 46, 46],\n",
       "       [88, 49, 44, 44, 44],\n",
       "       [84, 44, 44, 46, 46],\n",
       "       [85, 46, 45, 44, 44],\n",
       "       [85, 44, 44, 47, 45]])"
      ]
     },
     "execution_count": 23,
     "metadata": {},
     "output_type": "execute_result"
    }
   ],
   "source": [
    "X_ = X.values\n",
    "X_[0:5,0:5]"
   ]
  },
  {
   "cell_type": "code",
   "execution_count": 24,
   "metadata": {},
   "outputs": [],
   "source": [
    "scaler = MinMaxScaler(feature_range=[0, 1])\n",
    "X_rescaled = scaler.fit_transform(X_)"
   ]
  },
  {
   "cell_type": "code",
   "execution_count": 25,
   "metadata": {},
   "outputs": [
    {
     "data": {
      "text/plain": [
       "array([[0.03658537, 0.        , 0.02173913, 0.10526316, 0.04      ],\n",
       "       [0.04878049, 0.11111111, 0.        , 0.        , 0.        ],\n",
       "       [0.        , 0.        , 0.        , 0.10526316, 0.04      ],\n",
       "       [0.01219512, 0.04444444, 0.02173913, 0.        , 0.        ],\n",
       "       [0.01219512, 0.        , 0.        , 0.15789474, 0.02      ]])"
      ]
     },
     "execution_count": 25,
     "metadata": {},
     "output_type": "execute_result"
    }
   ],
   "source": [
    "X_rescaled[0:5,0:5]"
   ]
  },
  {
   "cell_type": "code",
   "execution_count": 26,
   "metadata": {},
   "outputs": [
    {
     "data": {
      "text/plain": [
       "(numpy.ndarray, 1000)"
      ]
     },
     "execution_count": 26,
     "metadata": {},
     "output_type": "execute_result"
    }
   ],
   "source": [
    "type(X_rescaled), len(X_rescaled)"
   ]
  },
  {
   "cell_type": "code",
   "execution_count": 27,
   "metadata": {},
   "outputs": [
    {
     "data": {
      "image/png": "[encoded data removed]",
      "text/plain": [
       "<Figure size 432x288 with 1 Axes>"
      ]
     },
     "metadata": {
      "needs_background": "light"
     },
     "output_type": "display_data"
    }
   ],
   "source": [
    "#Fitting the PCA algorithm with our Data\n",
    "pca = PCA().fit(X_rescaled)\n",
    "#Plotting the Cumulative Summation of the Explained Variance\n",
    "plt.figure()\n",
    "plt.plot(np.cumsum(pca.explained_variance_ratio_))\n",
    "plt.xlabel('Number of Components')\n",
    "plt.ylabel('Variance (%)') #for each component\n",
    "plt.title('Pulsar Dataset Explained Variance')\n",
    "plt.show()"
   ]
  },
  {
   "cell_type": "code",
   "execution_count": 28,
   "metadata": {},
   "outputs": [
    {
     "data": {
      "text/plain": [
       "array([5.23478522e-02, 2.16370604e-02, 1.25040653e-02, 1.16924832e-02,\n",
       "       1.09210651e-02, 9.77813558e-03, 9.43342365e-03, 8.04680582e-03,\n",
       "       7.09995220e-03, 6.83200743e-03, 6.26689121e-03, 6.15356730e-03,\n",
       "       5.92457987e-03, 5.69858420e-03, 5.56431005e-03, 5.21596433e-03,\n",
       "       4.92705941e-03, 4.69820061e-03, 4.56735849e-03, 4.44464770e-03,\n",
       "       4.17290446e-03, 4.01136673e-03, 3.96980174e-03, 3.83991951e-03,\n",
       "       3.79324872e-03, 3.63222670e-03, 3.51906738e-03, 3.43534143e-03,\n",
       "       3.39233655e-03, 3.29212255e-03, 3.22028343e-03, 3.13906778e-03,\n",
       "       3.09719126e-03, 2.95455380e-03, 2.92669332e-03, 2.84031835e-03,\n",
       "       2.80982406e-03, 2.77784298e-03, 2.70799456e-03, 2.69380237e-03,\n",
       "       2.64164526e-03, 2.55683281e-03, 2.54935807e-03, 2.54631309e-03,\n",
       "       2.48233847e-03, 2.45424166e-03, 2.42022144e-03, 2.35935938e-03,\n",
       "       2.34400341e-03, 2.31456811e-03, 2.29102348e-03, 2.25674237e-03,\n",
       "       2.24148023e-03, 2.19632814e-03, 2.18188390e-03, 2.17556623e-03,\n",
       "       2.14145895e-03, 2.10358671e-03, 2.08748288e-03, 2.08104350e-03,\n",
       "       2.06460311e-03, 2.03385422e-03, 2.00907239e-03, 1.98874764e-03,\n",
       "       1.97866715e-03, 1.95259969e-03, 1.94212509e-03, 1.91727510e-03,\n",
       "       1.90366999e-03, 1.88195645e-03, 1.87542277e-03, 1.87386703e-03,\n",
       "       1.85353201e-03, 1.83888377e-03, 1.82639383e-03, 1.80524277e-03,\n",
       "       1.79683307e-03, 1.77583711e-03, 1.76475214e-03, 1.75416499e-03,\n",
       "       1.74177299e-03, 1.73429358e-03, 1.72420816e-03, 1.71032267e-03,\n",
       "       1.70871796e-03, 1.70296066e-03, 1.69420566e-03, 1.68089591e-03,\n",
       "       1.67147020e-03, 1.66306926e-03, 1.65427499e-03, 1.64281001e-03,\n",
       "       1.63856916e-03, 1.62804075e-03, 1.62157405e-03, 1.61250398e-03,\n",
       "       1.60695954e-03, 1.59633627e-03, 1.58251172e-03, 1.57323187e-03,\n",
       "       1.56680693e-03, 1.56393278e-03, 1.55485116e-03, 1.54418835e-03,\n",
       "       1.54031072e-03, 1.53098416e-03, 1.52795492e-03, 1.51648844e-03,\n",
       "       1.49896890e-03, 1.49538789e-03, 1.49147545e-03, 1.48028507e-03,\n",
       "       1.47165139e-03, 1.46818551e-03, 1.45883700e-03, 1.45490543e-03,\n",
       "       1.44855593e-03, 1.43864792e-03, 1.43632544e-03, 1.43010547e-03,\n",
       "       1.42812158e-03, 1.41993351e-03, 1.41745448e-03, 1.41103157e-03,\n",
       "       1.40849499e-03, 1.39702305e-03, 1.39375018e-03, 1.39105390e-03,\n",
       "       1.38654083e-03, 1.37678721e-03, 1.37519268e-03, 1.36559744e-03,\n",
       "       1.36343530e-03, 1.36052942e-03, 1.35621492e-03, 1.34945905e-03,\n",
       "       1.34712760e-03, 1.34418907e-03, 1.34111673e-03, 1.33202399e-03,\n",
       "       1.31888137e-03, 1.31758707e-03, 1.31519553e-03, 1.31191003e-03,\n",
       "       1.30771194e-03, 1.30289098e-03, 1.29977614e-03, 1.29302245e-03,\n",
       "       1.29125468e-03, 1.28874558e-03, 1.28553323e-03, 1.28312875e-03,\n",
       "       1.26908486e-03, 1.26827457e-03, 1.26655933e-03, 1.26311184e-03,\n",
       "       1.25923261e-03, 1.25591591e-03, 1.25060198e-03, 1.24568183e-03,\n",
       "       1.23970181e-03, 1.23738914e-03, 1.23567941e-03, 1.23355661e-03,\n",
       "       1.23011898e-03, 1.22872753e-03, 1.22612735e-03, 1.21940698e-03,\n",
       "       1.21815833e-03, 1.21417140e-03, 1.20907910e-03, 1.20642660e-03,\n",
       "       1.20188021e-03, 1.19915174e-03, 1.19834123e-03, 1.19587202e-03,\n",
       "       1.18827852e-03, 1.18572772e-03, 1.18225888e-03, 1.17870875e-03,\n",
       "       1.17342421e-03, 1.17123937e-03, 1.16802337e-03, 1.16460435e-03,\n",
       "       1.16170697e-03, 1.15884024e-03, 1.15808097e-03, 1.15490409e-03,\n",
       "       1.15206320e-03, 1.15095442e-03, 1.14733478e-03, 1.14460833e-03,\n",
       "       1.14352272e-03, 1.13889497e-03, 1.13751470e-03, 1.13453138e-03,\n",
       "       1.13129159e-03, 1.12652752e-03, 1.12543692e-03, 1.12248262e-03,\n",
       "       1.11939740e-03, 1.11818519e-03, 1.11563735e-03, 1.11378866e-03,\n",
       "       1.11206613e-03, 1.10936377e-03, 1.10603925e-03, 1.10356402e-03,\n",
       "       1.10202043e-03, 1.09841874e-03, 1.09762767e-03, 1.09287132e-03,\n",
       "       1.09255099e-03, 1.08964808e-03, 1.08849752e-03, 1.08276525e-03,\n",
       "       1.08180817e-03, 1.07894323e-03, 1.07575851e-03, 1.07424539e-03,\n",
       "       1.07215465e-03, 1.07124374e-03, 1.06657605e-03, 1.06384102e-03,\n",
       "       1.06238102e-03, 1.05897670e-03, 1.05703789e-03, 1.05618622e-03,\n",
       "       1.05572121e-03, 1.04949059e-03, 1.04743039e-03, 1.04602186e-03,\n",
       "       1.04391133e-03, 1.04207527e-03, 1.04132089e-03, 1.04054272e-03,\n",
       "       1.03605487e-03, 1.03308260e-03, 1.03048672e-03, 1.02971498e-03,\n",
       "       1.02794877e-03, 1.02620237e-03, 1.02367131e-03, 1.02296406e-03,\n",
       "       1.02235979e-03, 1.01968527e-03, 1.01782342e-03, 1.01664578e-03,\n",
       "       1.01396953e-03, 1.00894285e-03, 1.00634411e-03, 1.00559642e-03,\n",
       "       1.00273922e-03, 1.00191552e-03, 1.00022091e-03, 9.97507927e-04,\n",
       "       9.96673602e-04, 9.95146025e-04, 9.94206844e-04, 9.89964214e-04,\n",
       "       9.86581815e-04, 9.84979514e-04, 9.82563301e-04, 9.80561227e-04,\n",
       "       9.79429622e-04, 9.78329350e-04, 9.74836314e-04, 9.73703469e-04,\n",
       "       9.72341319e-04, 9.70736441e-04, 9.67253424e-04, 9.65810554e-04,\n",
       "       9.64608331e-04, 9.63057801e-04, 9.60437917e-04, 9.58321730e-04,\n",
       "       9.57168013e-04, 9.54476741e-04, 9.53787787e-04, 9.52207960e-04,\n",
       "       9.51071703e-04, 9.48814203e-04, 9.46826432e-04, 9.46146968e-04,\n",
       "       9.43312363e-04, 9.39651869e-04, 9.38363587e-04, 9.36905800e-04,\n",
       "       9.36480206e-04, 9.35914690e-04, 9.31249933e-04, 9.28928488e-04,\n",
       "       9.28150398e-04, 9.26520080e-04, 9.25571381e-04, 9.24352055e-04,\n",
       "       9.23949521e-04, 9.20156718e-04, 9.19641818e-04, 9.17082138e-04,\n",
       "       9.16124561e-04, 9.11926698e-04, 9.11449506e-04, 9.10316980e-04,\n",
       "       9.08778096e-04, 9.07870888e-04, 9.05577843e-04, 9.04020908e-04,\n",
       "       9.02336085e-04, 9.01538258e-04, 8.98771799e-04, 8.97278397e-04,\n",
       "       8.94911663e-04, 8.94692669e-04, 8.90261416e-04, 8.89854336e-04,\n",
       "       8.88918205e-04, 8.88311956e-04, 8.86641893e-04, 8.85691065e-04,\n",
       "       8.84606739e-04, 8.83002919e-04, 8.80872507e-04, 8.79044742e-04,\n",
       "       8.76559577e-04, 8.75540081e-04, 8.73530741e-04, 8.72497415e-04,\n",
       "       8.71357124e-04, 8.69966854e-04, 8.67146463e-04, 8.65928990e-04,\n",
       "       8.65576132e-04, 8.65322055e-04, 8.64016163e-04, 8.62914121e-04,\n",
       "       8.61474033e-04, 8.59656544e-04, 8.58752076e-04, 8.55690342e-04,\n",
       "       8.54422957e-04, 8.52712209e-04, 8.51929544e-04, 8.50259428e-04,\n",
       "       8.47569814e-04, 8.45807674e-04, 8.43943807e-04, 8.42273999e-04,\n",
       "       8.41739468e-04, 8.40063064e-04, 8.37832174e-04, 8.37244188e-04,\n",
       "       8.37072933e-04, 8.36030782e-04, 8.34035126e-04, 8.32151275e-04,\n",
       "       8.30914723e-04, 8.29860652e-04, 8.28029349e-04, 8.27015916e-04,\n",
       "       8.24501360e-04, 8.23003951e-04, 8.22245276e-04, 8.20737669e-04,\n",
       "       8.19676733e-04, 8.18978935e-04, 8.18221370e-04, 8.17425323e-04,\n",
       "       8.14429997e-04, 8.13359381e-04, 8.11799927e-04, 8.10370350e-04,\n",
       "       8.10056422e-04, 8.09025776e-04, 8.07547416e-04, 8.05141712e-04,\n",
       "       8.04360113e-04, 8.03090315e-04, 8.01214129e-04, 8.00103624e-04,\n",
       "       7.98726042e-04, 7.98127223e-04, 7.96871637e-04, 7.96491388e-04,\n",
       "       7.95512637e-04, 7.94171854e-04, 7.91345267e-04, 7.90213032e-04,\n",
       "       7.89791679e-04, 7.87883248e-04, 7.86588600e-04, 7.85262012e-04,\n",
       "       7.84756788e-04, 7.82888636e-04, 7.80091901e-04, 7.79665082e-04,\n",
       "       7.77979910e-04, 7.76541413e-04, 7.74852314e-04, 7.74272464e-04,\n",
       "       7.72506404e-04, 7.71380764e-04, 7.70633893e-04, 7.68789968e-04,\n",
       "       7.66257164e-04, 7.65880516e-04, 7.64272991e-04, 7.63845586e-04,\n",
       "       7.63466151e-04, 7.62021911e-04, 7.61102142e-04, 7.59322698e-04,\n",
       "       7.58244905e-04, 7.57381916e-04, 7.55823328e-04, 7.55046293e-04,\n",
       "       7.52801909e-04, 7.51007697e-04, 7.50508497e-04, 7.49612369e-04,\n",
       "       7.48060823e-04, 7.46634510e-04, 7.46454317e-04, 7.45377198e-04,\n",
       "       7.44271802e-04, 7.43483188e-04, 7.42298710e-04, 7.41377342e-04,\n",
       "       7.39718687e-04, 7.38046692e-04, 7.37368720e-04, 7.36751342e-04,\n",
       "       7.35728153e-04, 7.33391615e-04, 7.32366883e-04, 7.31801962e-04,\n",
       "       7.30427756e-04, 7.28791935e-04, 7.27434805e-04, 7.26500987e-04,\n",
       "       7.26058799e-04, 7.24776468e-04, 7.23091220e-04, 7.22034558e-04,\n",
       "       7.21078991e-04, 7.19728231e-04, 7.19604396e-04, 7.18548363e-04,\n",
       "       7.17077795e-04, 7.16155591e-04, 7.14863383e-04, 7.13514192e-04,\n",
       "       7.12745873e-04, 7.11742704e-04, 7.10618803e-04, 7.09150194e-04,\n",
       "       7.07747050e-04, 7.06419512e-04, 7.05162937e-04, 7.03619922e-04,\n",
       "       7.02844940e-04, 7.02196359e-04, 7.01191086e-04, 6.99730374e-04,\n",
       "       6.99418947e-04, 6.98656092e-04, 6.97332537e-04, 6.95955136e-04,\n",
       "       6.93573454e-04, 6.92984317e-04, 6.91543035e-04, 6.90392413e-04,\n",
       "       6.89301790e-04, 6.88753770e-04, 6.87355578e-04, 6.86686506e-04,\n",
       "       6.84978286e-04, 6.83328593e-04, 6.82724169e-04, 6.82011679e-04,\n",
       "       6.81285809e-04, 6.79698675e-04, 6.77532905e-04, 6.76825387e-04,\n",
       "       6.76386408e-04, 6.75288522e-04, 6.74876817e-04, 6.73935646e-04,\n",
       "       6.72824772e-04, 6.71335335e-04, 6.70191857e-04, 6.69396433e-04,\n",
       "       6.68398310e-04, 6.67665859e-04, 6.66479426e-04, 6.65356667e-04,\n",
       "       6.64706944e-04, 6.62950369e-04, 6.62030508e-04, 6.60516825e-04,\n",
       "       6.60463759e-04, 6.59228097e-04, 6.58428799e-04, 6.56348458e-04,\n",
       "       6.56026299e-04, 6.54827825e-04, 6.54132841e-04, 6.53174167e-04,\n",
       "       6.51718272e-04, 6.50458765e-04, 6.49862318e-04, 6.48250507e-04,\n",
       "       6.48201828e-04, 6.47104408e-04, 6.45643849e-04, 6.44734967e-04,\n",
       "       6.42946428e-04, 6.42397128e-04, 6.41203211e-04, 6.41037146e-04,\n",
       "       6.40399786e-04, 6.38943419e-04, 6.38560016e-04, 6.37154320e-04,\n",
       "       6.35898727e-04, 6.35343234e-04, 6.33381527e-04, 6.32540790e-04,\n",
       "       6.31674793e-04, 6.30924520e-04, 6.30665037e-04, 6.29286146e-04,\n",
       "       6.28327355e-04, 6.26728753e-04, 6.26447645e-04, 6.25440682e-04,\n",
       "       6.24990396e-04, 6.24332200e-04, 6.23016185e-04, 6.22395802e-04,\n",
       "       6.21577038e-04, 6.20114643e-04, 6.19067846e-04, 6.17486193e-04,\n",
       "       6.17186989e-04, 6.15788720e-04, 6.15605964e-04, 6.13796870e-04,\n",
       "       6.12236710e-04, 6.11429759e-04, 6.11217466e-04, 6.09251985e-04,\n",
       "       6.08940344e-04, 6.08081743e-04, 6.07203946e-04, 6.06618675e-04,\n",
       "       6.05003741e-04, 6.03743609e-04, 6.02499876e-04, 6.02086969e-04,\n",
       "       6.01113761e-04, 6.00262102e-04, 5.98854427e-04, 5.98447003e-04,\n",
       "       5.97847929e-04, 5.97753437e-04, 5.96828691e-04, 5.96156148e-04,\n",
       "       5.95014867e-04, 5.94094918e-04, 5.93249752e-04, 5.92213820e-04,\n",
       "       5.90901877e-04, 5.89779836e-04, 5.87955808e-04, 5.86614318e-04,\n",
       "       5.86099184e-04, 5.85054182e-04, 5.84122969e-04, 5.83802635e-04,\n",
       "       5.82881917e-04, 5.81984080e-04, 5.80488862e-04, 5.80247592e-04,\n",
       "       5.79831275e-04, 5.78275301e-04, 5.77741324e-04, 5.77403431e-04,\n",
       "       5.76255127e-04, 5.75041923e-04, 5.74341441e-04, 5.72937264e-04,\n",
       "       5.72636943e-04, 5.71665269e-04, 5.71005918e-04, 5.70115480e-04,\n",
       "       5.69065139e-04, 5.68579491e-04, 5.67625938e-04, 5.67518604e-04,\n",
       "       5.65599491e-04, 5.64873530e-04, 5.64154722e-04, 5.63123577e-04,\n",
       "       5.62545363e-04, 5.62023631e-04, 5.61351213e-04, 5.60386068e-04,\n",
       "       5.59809886e-04, 5.59117223e-04, 5.57372982e-04, 5.57098166e-04,\n",
       "       5.56142183e-04, 5.55365567e-04, 5.53372090e-04, 5.52643529e-04,\n",
       "       5.51591731e-04, 5.50548810e-04, 5.50198038e-04, 5.49385488e-04,\n",
       "       5.49082285e-04, 5.48179244e-04, 5.47872993e-04, 5.46771251e-04,\n",
       "       5.46082768e-04, 5.44321458e-04, 5.43832654e-04, 5.43180159e-04,\n",
       "       5.41995932e-04, 5.40929647e-04, 5.40655249e-04, 5.39811983e-04,\n",
       "       5.38773650e-04, 5.38250943e-04, 5.36937623e-04, 5.36610524e-04,\n",
       "       5.35023202e-04, 5.34747908e-04, 5.32773043e-04, 5.32297282e-04,\n",
       "       5.32004358e-04, 5.31250016e-04, 5.30246136e-04, 5.29137463e-04,\n",
       "       5.28928779e-04, 5.28003901e-04, 5.27212443e-04, 5.26621453e-04,\n",
       "       5.26258768e-04, 5.25131960e-04, 5.24846217e-04, 5.23843335e-04,\n",
       "       5.22054490e-04, 5.21165642e-04, 5.20286401e-04, 5.19737347e-04,\n",
       "       5.18931160e-04, 5.18661744e-04, 5.16952365e-04, 5.16472838e-04,\n",
       "       5.15712675e-04, 5.14908069e-04, 5.13126755e-04, 5.13000891e-04,\n",
       "       5.12455446e-04, 5.12072170e-04, 5.10969603e-04, 5.10851026e-04,\n",
       "       5.09003140e-04, 5.08865041e-04, 5.08009022e-04, 5.07070718e-04,\n",
       "       5.06136371e-04, 5.05961187e-04, 5.05048985e-04, 5.03919192e-04,\n",
       "       5.03190060e-04, 5.02614933e-04, 5.01236051e-04, 5.00167605e-04,\n",
       "       4.98342414e-04, 4.97794981e-04, 4.97425531e-04, 4.96670518e-04,\n",
       "       4.96281457e-04, 4.95454946e-04, 4.94987986e-04, 4.93722905e-04,\n",
       "       4.92682245e-04, 4.91401176e-04, 4.91236215e-04, 4.89657542e-04,\n",
       "       4.89188144e-04, 4.88700549e-04, 4.87831080e-04, 4.87696286e-04,\n",
       "       4.85918144e-04, 4.85471935e-04, 4.85056675e-04, 4.84543356e-04,\n",
       "       4.83970748e-04, 4.83381011e-04, 4.82345669e-04, 4.81048097e-04,\n",
       "       4.80724518e-04, 4.80611497e-04, 4.79670180e-04, 4.78492269e-04,\n",
       "       4.77445000e-04, 4.76874839e-04, 4.76395893e-04, 4.75933121e-04,\n",
       "       4.74367508e-04, 4.74111197e-04, 4.72158185e-04, 4.71524102e-04,\n",
       "       4.71088677e-04, 4.70527419e-04, 4.69656534e-04, 4.69088189e-04,\n",
       "       4.68284404e-04, 4.67310804e-04, 4.67040324e-04, 4.66485424e-04,\n",
       "       4.65963654e-04, 4.64712820e-04, 4.64084519e-04, 4.63754680e-04,\n",
       "       4.62926765e-04, 4.62436920e-04, 4.61107805e-04, 4.60235091e-04,\n",
       "       4.59189046e-04, 4.58925902e-04, 4.58621209e-04, 4.57915716e-04,\n",
       "       4.56476524e-04, 4.56047707e-04, 4.55010031e-04, 4.54449753e-04,\n",
       "       4.53489546e-04, 4.52388452e-04, 4.51841788e-04, 4.51091480e-04,\n",
       "       4.50582471e-04, 4.50186690e-04, 4.49770580e-04, 4.48570068e-04,\n",
       "       4.47568886e-04, 4.46744842e-04, 4.46534272e-04, 4.45405932e-04,\n",
       "       4.44534436e-04, 4.44309026e-04, 4.43764866e-04, 4.42229787e-04,\n",
       "       4.41298818e-04, 4.40557186e-04, 4.40195820e-04, 4.39479521e-04,\n",
       "       4.39005401e-04, 4.38550317e-04, 4.36602792e-04, 4.36262593e-04,\n",
       "       4.34534082e-04, 4.34132666e-04, 4.33923618e-04, 4.33589518e-04,\n",
       "       4.33418685e-04, 4.32641256e-04, 4.31789763e-04, 4.31158645e-04,\n",
       "       4.30635800e-04, 4.29426839e-04, 4.28423770e-04, 4.27202366e-04,\n",
       "       4.26521376e-04, 4.26071539e-04, 4.25099476e-04, 4.24390940e-04,\n",
       "       4.23476803e-04, 4.22954109e-04, 4.22267289e-04, 4.21432151e-04,\n",
       "       4.20574806e-04, 4.20474199e-04, 4.20239938e-04, 4.19151208e-04,\n",
       "       4.18458017e-04, 4.17417676e-04, 4.16625596e-04, 4.15668119e-04,\n",
       "       4.15035983e-04, 4.14476588e-04, 4.13050234e-04, 4.12354654e-04,\n",
       "       4.11186257e-04, 4.10646685e-04, 4.10461968e-04, 4.09759719e-04,\n",
       "       4.08905003e-04, 4.07816578e-04, 4.06851625e-04, 4.05706528e-04,\n",
       "       4.05245548e-04, 4.04803265e-04, 4.04694822e-04, 4.03708021e-04,\n",
       "       4.03107505e-04, 4.01437993e-04, 4.01230813e-04, 4.00570956e-04,\n",
       "       3.99771367e-04, 3.98893599e-04, 3.98594096e-04, 3.97863603e-04,\n",
       "       3.97131730e-04, 3.96268047e-04, 3.95730530e-04, 3.95298330e-04,\n",
       "       3.94897189e-04, 3.93862961e-04, 3.92661831e-04, 3.92175727e-04,\n",
       "       3.91757357e-04, 3.90797673e-04, 3.90172250e-04, 3.89558146e-04,\n",
       "       3.89029238e-04, 3.88616664e-04, 3.87407982e-04, 3.86008082e-04,\n",
       "       3.85774885e-04, 3.85405708e-04, 3.84205042e-04, 3.83643249e-04,\n",
       "       3.83486747e-04, 3.82952793e-04, 3.81595846e-04, 3.80736356e-04,\n",
       "       3.79603102e-04, 3.78477582e-04, 3.77975991e-04, 3.77772424e-04,\n",
       "       3.76394665e-04, 3.75615618e-04, 3.75129765e-04, 3.74955170e-04,\n",
       "       3.74398156e-04, 3.73452971e-04, 3.72481369e-04, 3.71733599e-04,\n",
       "       3.71071396e-04, 3.70100868e-04, 3.69552267e-04, 3.68991611e-04,\n",
       "       3.68108746e-04, 3.67581008e-04, 3.67091566e-04, 3.65954773e-04,\n",
       "       3.65539886e-04, 3.65206024e-04, 3.64560699e-04, 3.64323609e-04,\n",
       "       3.63602490e-04, 3.63269749e-04, 3.62098527e-04, 3.61601136e-04,\n",
       "       3.60789610e-04, 3.60450956e-04, 3.59391481e-04, 3.58332052e-04,\n",
       "       3.57338111e-04, 3.56828938e-04, 3.56001655e-04, 3.55679552e-04,\n",
       "       3.54786761e-04, 3.53498562e-04, 3.53207096e-04, 3.52494455e-04,\n",
       "       3.51786676e-04, 3.50821157e-04, 3.49928692e-04, 3.49637771e-04,\n",
       "       3.48956559e-04, 3.48267749e-04, 3.47509094e-04, 3.46279160e-04,\n",
       "       3.45943131e-04, 3.44401715e-04, 3.44097188e-04, 3.43899147e-04,\n",
       "       3.43444110e-04, 3.43175062e-04, 3.42634814e-04, 3.41126580e-04,\n",
       "       3.40933554e-04, 3.40438209e-04, 3.39016151e-04, 3.38101937e-04,\n",
       "       3.37322935e-04, 3.36683347e-04, 3.36118815e-04, 3.35777777e-04,\n",
       "       3.34624513e-04, 3.34040613e-04, 3.32869228e-04, 3.32317438e-04,\n",
       "       3.32033964e-04, 3.31216350e-04, 3.30943453e-04, 3.29675537e-04,\n",
       "       3.28832725e-04, 3.27778659e-04, 3.27594542e-04, 3.26589767e-04,\n",
       "       3.25538454e-04, 3.24819809e-04, 3.24365684e-04, 3.24324836e-04,\n",
       "       3.22486372e-04, 3.22166636e-04, 3.21327274e-04, 3.20217353e-04,\n",
       "       3.19871977e-04, 3.19297861e-04, 3.18902935e-04, 3.17521723e-04,\n",
       "       3.17133573e-04, 3.15738770e-04, 3.15167744e-04, 3.14539075e-04,\n",
       "       3.13023888e-04, 3.12251435e-04, 3.11717766e-04, 3.11155827e-04,\n",
       "       3.10833256e-04, 3.09925066e-04, 3.09095801e-04, 3.08571189e-04,\n",
       "       3.07671298e-04, 3.06797499e-04, 3.06438068e-04, 3.05600341e-04,\n",
       "       3.04601022e-04, 3.04129678e-04, 3.03533004e-04, 3.02555931e-04,\n",
       "       3.02090134e-04, 3.01025991e-04, 2.99428507e-04, 2.99236920e-04,\n",
       "       2.97998005e-04, 2.96831892e-04, 2.96558172e-04, 2.95987594e-04,\n",
       "       2.95540963e-04, 2.94071852e-04, 2.93344306e-04, 2.92937345e-04,\n",
       "       2.91206677e-04, 2.90855069e-04, 2.89916750e-04, 2.89226099e-04,\n",
       "       2.88958028e-04, 2.87811945e-04, 2.87054191e-04, 2.86218447e-04,\n",
       "       2.85480069e-04, 2.84579128e-04, 2.82932675e-04, 2.82473304e-04,\n",
       "       2.82069411e-04, 2.80285414e-04, 2.79828193e-04, 2.79158969e-04,\n",
       "       2.77737144e-04, 2.76726304e-04, 2.75577695e-04, 2.75325134e-04,\n",
       "       2.74563162e-04, 2.72548742e-04, 2.72153910e-04, 2.70921128e-04,\n",
       "       2.70568810e-04, 2.69498806e-04, 2.67029460e-04, 2.66374390e-04,\n",
       "       2.64296623e-04, 2.63672092e-04, 2.62336876e-04, 2.59846588e-04,\n",
       "       2.59543071e-04, 2.58726906e-04, 2.56917442e-04, 2.56377846e-04,\n",
       "       2.53527209e-04, 2.53294307e-04, 2.50786227e-04, 5.13009515e-33])"
      ]
     },
     "execution_count": 28,
     "metadata": {},
     "output_type": "execute_result"
    }
   ],
   "source": [
    "X_pca = pca.fit_transform(X_rescaled)\n",
    "pca.explained_variance_ratio_"
   ]
  },
  {
   "cell_type": "code",
   "execution_count": 29,
   "metadata": {},
   "outputs": [
    {
     "data": {
      "text/plain": [
       "(1000, 1000)"
      ]
     },
     "execution_count": 29,
     "metadata": {},
     "output_type": "execute_result"
    }
   ],
   "source": [
    "X_pca.shape"
   ]
  },
  {
   "cell_type": "code",
   "execution_count": 32,
   "metadata": {},
   "outputs": [
    {
     "data": {
      "text/plain": [
       "2"
      ]
     },
     "execution_count": 32,
     "metadata": {},
     "output_type": "execute_result"
    }
   ],
   "source": [
    "X_pca[0][:45]\n",
    "y[10]"
   ]
  },
  {
   "cell_type": "code",
   "execution_count": 40,
   "metadata": {},
   "outputs": [],
   "source": [
    "def chiSquared(a,b):\n",
    "    res = np.sqrt(0.5*np.sum((a-b)**2/(a+b+1e-6)))\n",
    "    return res\n",
    "\n",
    "def chiSquared2(a,b):\n",
    "    #res = np.sqrt(0.5*np.sum((a-b)**2/(a+b+1e-6)))\n",
    "    return 0.5*np.sum((a-b)**2/(a+b+1e-6))\n",
    "\n",
    "def getMetrics(X,y):\n",
    "    #data = pd.read_csv(csvfilename)\n",
    "    #X = data.drop('class', axis=1)  \n",
    "    #y = data['class']\n",
    "    y_pred = np.zeros(data.shape[0])\n",
    "    for i in range(len(X)):\n",
    "        minimun = 1e+10;    \n",
    "        for j in range (len(X)):\n",
    "            res = chiSquared(X[i], X[j])\n",
    "            if res < minimun and i != j:\n",
    "                minimun = res\n",
    "                y_pred[i] = y[j] \n",
    "                \n",
    "    count = 0\n",
    "    for i in range (len(y)):\n",
    "        if y[i] == y_pred[i]:\n",
    "            count = count + 1    \n",
    "    msq = np.sqrt(mean_squared_error(y, y_pred))\n",
    "    rank1 = count*100/len(y)\n",
    "    res = 'MSR: '+ str(msq) + ' - Rank1: '+ str(rank1)    \n",
    "    return res"
   ]
  },
  {
   "cell_type": "code",
   "execution_count": 41,
   "metadata": {},
   "outputs": [
    {
     "name": "stderr",
     "output_type": "stream",
     "text": [
      "/home/sol/.virtualenvs/maskrcnn/lib/python3.6/site-packages/ipykernel_launcher.py:2: RuntimeWarning: invalid value encountered in sqrt\n",
      "  \n"
     ]
    },
    {
     "name": "stdout",
     "output_type": "stream",
     "text": [
      "MSR: 41.66751732464991 - Rank1: 0.8\n"
     ]
    }
   ],
   "source": [
    "print(getMetrics(X_pca,y))"
   ]
  },
  {
   "cell_type": "code",
   "execution_count": 9,
   "metadata": {},
   "outputs": [
    {
     "data": {
      "image/png": "[encoded data removed]",
      "text/plain": [
       "<Figure size 432x288 with 1 Axes>"
      ]
     },
     "metadata": {
      "needs_background": "light"
     },
     "output_type": "display_data"
    }
   ],
   "source": [
    "a = np.array([1,2,1,3,2,4,2,5])\n",
    "plt.figure()\n",
    "plt.plot(a)\n",
    "plt.xlabel('X')\n",
    "plt.ylabel('Y') #for each component\n",
    "plt.title('Title')\n",
    "plt.show()"
   ]
  },
  {
   "cell_type": "code",
   "execution_count": null,
   "metadata": {},
   "outputs": [],
   "source": []
  }
 ],
 "metadata": {
  "kernelspec": {
   "display_name": "Python 3",
   "language": "python",
   "name": "python3"
  },
  "language_info": {
   "codemirror_mode": {
    "name": "ipython",
    "version": 3
   },
   "file_extension": ".py",
   "mimetype": "text/x-python",
   "name": "python",
   "nbconvert_exporter": "python",
   "pygments_lexer": "ipython3",
   "version": "3.6.8"
  }
 },
 "nbformat": 4,
 "nbformat_minor": 2
}
