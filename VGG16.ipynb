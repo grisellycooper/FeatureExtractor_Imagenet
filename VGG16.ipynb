{
 "cells": [
  {
   "cell_type": "code",
   "execution_count": null,
   "metadata": {},
   "outputs": [],
   "source": [
    "from keras.preprocessing import image\n",
    "from keras.applications.vgg16 import VGG16\n",
    "from keras.applications.vgg16 import preprocess_input"
   ]
  },
  {
   "cell_type": "code",
   "execution_count": 1,
   "metadata": {},
   "outputs": [],
   "source": [
    "import os\n",
    "import numpy as np \n",
    "import csv\n",
    "from glob import glob"
   ]
  },
  {
   "cell_type": "code",
   "execution_count": 2,
   "metadata": {},
   "outputs": [],
   "source": [
    "import pandas as pd  \n",
    "import matplotlib.pyplot as plt  \n",
    "%matplotlib inline\n",
    "\n",
    "from sklearn.model_selection import train_test_split  \n",
    "from sklearn.svm import SVC \n",
    "from sklearn.metrics import classification_report, confusion_matrix, mean_squared_error"
   ]
  },
  {
   "cell_type": "code",
   "execution_count": 24,
   "metadata": {},
   "outputs": [],
   "source": [
    "ROOT_DIR = os.path.abspath(\"../../\")\n",
    "DS_DIR = os.path.join(ROOT_DIR, \"Datasets/awe\")\n"
   ]
  },
  {
   "cell_type": "markdown",
   "metadata": {},
   "source": [
    "### Model generation using Imagenet weights"
   ]
  },
  {
   "cell_type": "code",
   "execution_count": null,
   "metadata": {},
   "outputs": [],
   "source": [
    "model = VGG16(weights='imagenet', include_top=False)\n",
    "model.summary()"
   ]
  },
  {
   "cell_type": "markdown",
   "metadata": {},
   "source": [
    "### Image Feature Extraction"
   ]
  },
  {
   "cell_type": "code",
   "execution_count": 79,
   "metadata": {},
   "outputs": [],
   "source": [
    "def getVector():\n",
    "    return np.array([1,2,3,5,6,7,8,9,10])\n"
   ]
  },
  {
   "cell_type": "code",
   "execution_count": 114,
   "metadata": {
    "scrolled": true
   },
   "outputs": [
    {
     "name": "stdout",
     "output_type": "stream",
     "text": [
      "1000\n",
      "10\n",
      "[['class', 'v1', 'v2', 'v3', 'v4', 'v5', 'v6', 'v7', 'v8', 'v9']]\n"
     ]
    }
   ],
   "source": [
    "vgg16_feature_list = []\n",
    "for (dirpath, u_dirnames, filenames) in os.walk(DS_DIR):\n",
    "    dirnames = sorted(u_dirnames)\n",
    "    for i in range(0,len(dirnames)):\n",
    "        FILE_DIR = os.path.join(DS_DIR, str(dirnames[i]))\n",
    "        files = glob(FILE_DIR+'/*.png') \n",
    "        for j in range (0,len(files)):\n",
    "            #print(files[j])\n",
    "            image_class = np.array([int(str(dirnames[i]))])\n",
    "            #img = image.load_img(files[j], target_size=(224, 224))\n",
    "            #img_data = image.img_to_array(img)\n",
    "            #img_data = np.expand_dims(img_data, axis=0)\n",
    "            #img_data = preprocess_input(img_data)\n",
    "            #vgg16_feature = model.predict(img_data)\n",
    "            #image_vector = np.array(vgg16_feature)            \n",
    "            image_vector = getVector()                       \n",
    "            vgg16_feature_np = np.concatenate((image_class, image_vector), axis=0)                                  \n",
    "            vgg16_feature_list.append(vgg16_feature_np.flatten())            \n",
    "    break\n",
    "\n",
    "#print(len(vgg16_feature_list))\n",
    "#print(len(vgg16_feature_np))\n",
    "head = []\n",
    "head.append('class')\n",
    "for i in range(1, len(vgg16_feature_np)):\n",
    "    head.append('v'+str(i))\n",
    "\n",
    "head_np = []\n",
    "head_np.append(head)\n",
    "#print(head_np)"
   ]
  },
  {
   "cell_type": "markdown",
   "metadata": {},
   "source": [
    "### Build CSV file"
   ]
  },
  {
   "cell_type": "code",
   "execution_count": 115,
   "metadata": {},
   "outputs": [],
   "source": [
    "with open('vgg16.csv', 'w') as csvFile:\n",
    "    writer = csv.writer(csvFile)\n",
    "    writer.writerows(head_np)\n",
    "    writer.writerows(vgg16_feature_list)\n",
    "csvFile.close()"
   ]
  },
  {
   "cell_type": "markdown",
   "metadata": {},
   "source": [
    "### Get Distance metric"
   ]
  },
  {
   "cell_type": "code",
   "execution_count": 3,
   "metadata": {},
   "outputs": [],
   "source": [
    "def chiSquared(a,b):\n",
    "    res = np.sqrt(0.5*np.sum((a-b)**2/(a+b+1e-6)))\n",
    "    return res\n",
    "\n",
    "def chiSquared2(a,b):\n",
    "    #res = np.sqrt(0.5*np.sum((a-b)**2/(a+b+1e-6)))\n",
    "    return 0.5*np.sum((a-b)**2/(a+b+1e-6))\n",
    "\n",
    "def getMetrics(csvfilename):\n",
    "    data = pd.read_csv(csvfilename)\n",
    "    X = data.drop('class', axis=1)  \n",
    "    y = data['class']\n",
    "    y_pred = np.zeros(data.shape)\n",
    "    for i in range(len(X)):\n",
    "        #minimun = 1e+10;    \n",
    "        for j in range (len(X)):\n",
    "            res = chiSquared(X.values[i], X.values[j])\n",
    "            #if res < minimun and i != j:\n",
    "                #minimun = res\n",
    "            y_pred[i][j] = y[j] \n",
    "                \n",
    "    count = 0\n",
    "    for i in range (len(y)):\n",
    "        if y[i] == y_pred[i]:\n",
    "            count = count + 1    \n",
    "    msq = np.sqrt(mean_squared_error(y, y_pred))\n",
    "    rank1 = count*100/len(y)\n",
    "    res = 'MSR: '+ str(msq) + ' - Rank1: '+ str(rank1)    \n",
    "    return res"
   ]
  },
  {
   "cell_type": "code",
   "execution_count": null,
   "metadata": {},
   "outputs": [],
   "source": []
  },
  {
   "cell_type": "code",
   "execution_count": null,
   "metadata": {},
   "outputs": [],
   "source": [
    "print(getMetrics(\"calculated_features/awe-awet_bsif.csv\"))"
   ]
  },
  {
   "cell_type": "code",
   "execution_count": 137,
   "metadata": {},
   "outputs": [
    {
     "name": "stdout",
     "output_type": "stream",
     "text": [
      "MSR: 32.4314970361 - Rank1: 39.3\n"
     ]
    }
   ],
   "source": [
    "print(getMetrics(\"calculated_features/awe-awet_dsift.csv\"))"
   ]
  },
  {
   "cell_type": "code",
   "execution_count": 4,
   "metadata": {},
   "outputs": [
    {
     "name": "stdout",
     "output_type": "stream",
     "text": [
      "1000\n"
     ]
    }
   ],
   "source": [
    "print(getMetrics(\"calculated_features/awe-awet_hog.csv\"))"
   ]
  },
  {
   "cell_type": "code",
   "execution_count": null,
   "metadata": {},
   "outputs": [],
   "source": [
    "print(getMetrics(\"calculated_features/awe-awet_lbp.csv\"))"
   ]
  },
  {
   "cell_type": "code",
   "execution_count": null,
   "metadata": {},
   "outputs": [],
   "source": [
    "print(getMetrics(\"calculated_features/awe-awet_lpq.csv\"))"
   ]
  },
  {
   "cell_type": "code",
   "execution_count": null,
   "metadata": {},
   "outputs": [],
   "source": [
    "print(getMetrics(\"calculated_features/awe-awet_rilpq.csv\"))"
   ]
  },
  {
   "cell_type": "code",
   "execution_count": null,
   "metadata": {},
   "outputs": [],
   "source": [
    "print(getMetrics(\"calculated_features/awe-awet_poem.csv\"))"
   ]
  },
  {
   "cell_type": "code",
   "execution_count": 134,
   "metadata": {},
   "outputs": [
    {
     "name": "stdout",
     "output_type": "stream",
     "text": [
      "MSR: 57.3018324314 - Rank1: 1.0\n"
     ]
    }
   ],
   "source": [
    "print(getMetrics(\"calculated_features/vgg16.csv\"))"
   ]
  },
  {
   "cell_type": "code",
   "execution_count": 30,
   "metadata": {},
   "outputs": [],
   "source": [
    "csvfilename = \"calculated_features/awe-awet_lbp.csv\"\n",
    "data = pd.read_csv(csvfilename)\n",
    "X = data.drop('class', axis=1)  \n",
    "y = data['class']\n",
    "s = (len(X), len(X), 2)\n",
    "y_pred = np.zeros(s)\n",
    "for i in range(len(X)):\n",
    "    #minimun = 1e+10;    \n",
    "    for j in range (len(X)):\n",
    "        res = chiSquared(X.values[i], X.values[j])\n",
    "        #if res < minimun and i != j:\n",
    "            #minimun = res\n",
    "        y_pred[i][j] = [res, y[j]]"
   ]
  },
  {
   "cell_type": "code",
   "execution_count": 31,
   "metadata": {},
   "outputs": [
    {
     "data": {
      "text/plain": [
       "1000"
      ]
     },
     "execution_count": 31,
     "metadata": {},
     "output_type": "execute_result"
    }
   ],
   "source": [
    "len(y_pred)"
   ]
  },
  {
   "cell_type": "code",
   "execution_count": 61,
   "metadata": {},
   "outputs": [
    {
     "data": {
      "text/plain": [
       "array([[   0.        ,    1.        ],\n",
       "       [   1.        ,  110.47814114],\n",
       "       [   1.        ,  110.61641101],\n",
       "       [   1.        ,  110.6996499 ],\n",
       "       [   1.        ,  111.18752886],\n",
       "       [   1.        ,  111.46490242],\n",
       "       [   1.        ,  111.66306437],\n",
       "       [   1.        ,  111.67152393],\n",
       "       [   1.        ,  111.8364342 ],\n",
       "       [   1.        ,  111.91574444],\n",
       "       [   2.        ,  111.9564981 ],\n",
       "       [   2.        ,  111.97844336],\n",
       "       [   2.        ,  112.06293026],\n",
       "       [   2.        ,  112.19035266],\n",
       "       [   2.        ,  112.3526495 ],\n",
       "       [   2.        ,  112.50500309],\n",
       "       [   2.        ,  112.71699069],\n",
       "       [   2.        ,  112.75911206],\n",
       "       [   2.        ,  113.04783061],\n",
       "       [   2.        ,  113.48304693],\n",
       "       [   3.        ,  113.53347571],\n",
       "       [   3.        ,  113.72653878],\n",
       "       [   3.        ,  113.7371122 ],\n",
       "       [   3.        ,  113.90114861],\n",
       "       [   3.        ,  113.91107164],\n",
       "       [   3.        ,  113.91865739],\n",
       "       [   3.        ,  114.49700483],\n",
       "       [   3.        ,  114.75750453],\n",
       "       [   3.        ,  114.82907961],\n",
       "       [   3.        ,  114.89451404],\n",
       "       [   4.        ,  114.9144597 ],\n",
       "       [   4.        ,  114.93559094],\n",
       "       [   4.        ,  115.00931025],\n",
       "       [   4.        ,  115.27602292],\n",
       "       [   4.        ,  115.39620437],\n",
       "       [   4.        ,  115.39781694],\n",
       "       [   4.        ,  115.50915305],\n",
       "       [   4.        ,  115.54981765],\n",
       "       [   4.        ,  115.66923426],\n",
       "       [   4.        ,  115.78401214],\n",
       "       [   5.        ,  115.98473806],\n",
       "       [   5.        ,  116.04737613],\n",
       "       [   5.        ,  116.04781937],\n",
       "       [   5.        ,  116.0630336 ],\n",
       "       [   5.        ,  116.06315522]])"
      ]
     },
     "execution_count": 61,
     "metadata": {},
     "output_type": "execute_result"
    }
   ],
   "source": [
    "y_pred[35][:45]"
   ]
  },
  {
   "cell_type": "code",
   "execution_count": 55,
   "metadata": {},
   "outputs": [
    {
     "data": {
      "text/plain": [
       "(1000, 1000, 2)"
      ]
     },
     "execution_count": 55,
     "metadata": {},
     "output_type": "execute_result"
    }
   ],
   "source": [
    "y_pred.shape"
   ]
  },
  {
   "cell_type": "code",
   "execution_count": 59,
   "metadata": {},
   "outputs": [],
   "source": [
    "y_gg = y_pred"
   ]
  },
  {
   "cell_type": "code",
   "execution_count": 57,
   "metadata": {},
   "outputs": [],
   "source": [
    "for i in range(len(y_gg)):\n",
    "    y_gg[i].sort(axis=0) "
   ]
  },
  {
   "cell_type": "code",
   "execution_count": 60,
   "metadata": {
    "scrolled": true
   },
   "outputs": [
    {
     "data": {
      "text/plain": [
       "array([[   0.        ,    1.        ],\n",
       "       [   1.        ,  110.47814114],\n",
       "       [   1.        ,  110.61641101],\n",
       "       [   1.        ,  110.6996499 ],\n",
       "       [   1.        ,  111.18752886],\n",
       "       [   1.        ,  111.46490242],\n",
       "       [   1.        ,  111.66306437],\n",
       "       [   1.        ,  111.67152393],\n",
       "       [   1.        ,  111.8364342 ],\n",
       "       [   1.        ,  111.91574444],\n",
       "       [   2.        ,  111.9564981 ],\n",
       "       [   2.        ,  111.97844336],\n",
       "       [   2.        ,  112.06293026],\n",
       "       [   2.        ,  112.19035266],\n",
       "       [   2.        ,  112.3526495 ],\n",
       "       [   2.        ,  112.50500309],\n",
       "       [   2.        ,  112.71699069],\n",
       "       [   2.        ,  112.75911206],\n",
       "       [   2.        ,  113.04783061],\n",
       "       [   2.        ,  113.48304693],\n",
       "       [   3.        ,  113.53347571],\n",
       "       [   3.        ,  113.72653878],\n",
       "       [   3.        ,  113.7371122 ],\n",
       "       [   3.        ,  113.90114861],\n",
       "       [   3.        ,  113.91107164],\n",
       "       [   3.        ,  113.91865739],\n",
       "       [   3.        ,  114.49700483],\n",
       "       [   3.        ,  114.75750453],\n",
       "       [   3.        ,  114.82907961],\n",
       "       [   3.        ,  114.89451404],\n",
       "       [   4.        ,  114.9144597 ],\n",
       "       [   4.        ,  114.93559094],\n",
       "       [   4.        ,  115.00931025],\n",
       "       [   4.        ,  115.27602292],\n",
       "       [   4.        ,  115.39620437],\n",
       "       [   4.        ,  115.39781694],\n",
       "       [   4.        ,  115.50915305],\n",
       "       [   4.        ,  115.54981765],\n",
       "       [   4.        ,  115.66923426],\n",
       "       [   4.        ,  115.78401214],\n",
       "       [   5.        ,  115.98473806],\n",
       "       [   5.        ,  116.04737613],\n",
       "       [   5.        ,  116.04781937],\n",
       "       [   5.        ,  116.0630336 ],\n",
       "       [   5.        ,  116.06315522]])"
      ]
     },
     "execution_count": 60,
     "metadata": {},
     "output_type": "execute_result"
    }
   ],
   "source": [
    "y_gg[35][:45]"
   ]
  },
  {
   "cell_type": "code",
   "execution_count": null,
   "metadata": {},
   "outputs": [],
   "source": []
  },
  {
   "cell_type": "code",
   "execution_count": null,
   "metadata": {},
   "outputs": [],
   "source": []
  }
 ],
 "metadata": {
  "kernelspec": {
   "display_name": "Python 3",
   "language": "python",
   "name": "python3"
  },
  "language_info": {
   "codemirror_mode": {
    "name": "ipython",
    "version": 3
   },
   "file_extension": ".py",
   "mimetype": "text/x-python",
   "name": "python",
   "nbconvert_exporter": "python",
   "pygments_lexer": "ipython3",
   "version": "3.6.7"
  }
 },
 "nbformat": 4,
 "nbformat_minor": 2
}
