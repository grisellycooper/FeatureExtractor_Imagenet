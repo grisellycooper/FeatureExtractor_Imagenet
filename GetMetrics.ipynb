{
 "cells": [
  {
   "cell_type": "markdown",
   "metadata": {},
   "source": [
    "### Get Distance metric"
   ]
  },
  {
   "cell_type": "markdown",
   "metadata": {},
   "source": [
    "##### Chi-squared distance is used to check the similarity among two fecture vectors. Metric Rank-n and MSE info is returned"
   ]
  },
  {
   "cell_type": "code",
   "execution_count": 1,
   "metadata": {},
   "outputs": [],
   "source": [
    "import numpy as np \n",
    "import csv\n",
    "import pandas as pd\n",
    "import matplotlib.pyplot as plt  \n",
    "%matplotlib inline\n",
    "\n",
    "from sklearn.metrics import classification_report, confusion_matrix, mean_squared_error"
   ]
  },
  {
   "cell_type": "markdown",
   "metadata": {},
   "source": [
    "### Test"
   ]
  },
  {
   "cell_type": "code",
   "execution_count": 53,
   "metadata": {},
   "outputs": [
    {
     "name": "stdout",
     "output_type": "stream",
     "text": [
      "1000\n"
     ]
    }
   ],
   "source": [
    "    data = pd.read_csv(\"calculated_features/awe-awet_lpq.csv\")\n",
    "    X = data.drop('class', axis=1)  \n",
    "    y = data['class']\n",
    "    X_np = X.values\n",
    "    y_np = y.values\n",
    "    s = (len(X_np), len(X_np), 2)\n",
    "    y_pred = np.zeros(s)\n",
    "    print(len(X_np))\n",
    "    # Get distances matrix\n",
    "    for i in range(len(X_np)):\n",
    "        #minimun = 1e+10;    \n",
    "        for j in range (len(X_np)):\n",
    "            dis = chiSquared(X_np[i], X_np[j])\n",
    "            #if dis < minimun and i != j:\n",
    "            #minimun = res\n",
    "            y_pred[i][j] = [dis, y[j]] "
   ]
  },
  {
   "cell_type": "code",
   "execution_count": 54,
   "metadata": {},
   "outputs": [],
   "source": [
    "# Order matrix acordance to distance\n",
    "    for i in range(len(y_pred)):\n",
    "        b = y_pred[i]\n",
    "        y_pred[i] = b[b[:,0].argsort()] "
   ]
  },
  {
   "cell_type": "code",
   "execution_count": 55,
   "metadata": {},
   "outputs": [],
   "source": [
    "    rank = 5\n",
    "    count = 0\n",
    "    # Get Rank counting\n",
    "    rankbins = np.zeros(rank+1)\n",
    "    for i in range (len(y_pred)):        \n",
    "        for j in range (len(y_pred)):\n",
    "            if y_pred[i][j][0] == 0.0: #if distance is 0, it's the same vector                \n",
    "                continue\n",
    "            else:\n",
    "                if j > rank: #we are interested in evaluate only the rank-n                    \n",
    "                    rankbins[rank] += 1\n",
    "                    break;\n",
    "                else: \n",
    "                    if y[i] == y_pred[i][j][1]:                                                 \n",
    "                        rankbins[j] += 1                        \n",
    "                        break                    "
   ]
  },
  {
   "cell_type": "code",
   "execution_count": 56,
   "metadata": {},
   "outputs": [
    {
     "data": {
      "text/plain": [
       "(array([   0.,  389.,   94.,   52.,   32.,  433.]), 0, 999, 6)"
      ]
     },
     "execution_count": 56,
     "metadata": {},
     "output_type": "execute_result"
    }
   ],
   "source": [
    "rankbins, count, i, j"
   ]
  },
  {
   "cell_type": "markdown",
   "metadata": {},
   "source": [
    "### Getting Rank1 metric"
   ]
  },
  {
   "cell_type": "code",
   "execution_count": 2,
   "metadata": {},
   "outputs": [],
   "source": [
    "def chiSquared(a,b):\n",
    "    res = np.sqrt(0.5*np.sum((a-b)**2/(a+b+1e-6)))\n",
    "    return res\n",
    "\n",
    "def chiSquared2(a,b):\n",
    "    #res = np.sqrt(0.5*np.sum((a-b)**2/(a+b+1e-6)))\n",
    "    return 0.5*np.sum((a-b)**2/(a+b+1e-6))\n",
    "\n",
    "#Input: csvfile // Output: rankbins\n",
    "def getMetrics(csvfilename, rank):\n",
    "    data = pd.read_csv(csvfilename)\n",
    "    Xdf = data.drop('class', axis=1)  \n",
    "    ydf = data['class']\n",
    "    X = Xdf.values\n",
    "    y = ydf.values\n",
    "    s = (len(X), len(X), 2)\n",
    "    y_pred = np.zeros(s)\n",
    "    \n",
    "    # Get distances matrix\n",
    "    for i in range(len(X)):        \n",
    "        for j in range (len(X)):\n",
    "            dis = chiSquared(X[i], X[j])\n",
    "            y_pred[i][j] = [dis, y[j]] \n",
    "            \n",
    "    # Order matrix acording to distance\n",
    "    for i in range(len(y_pred)):\n",
    "        b = y_pred[i]\n",
    "        y_pred[i] = b[b[:,0].argsort()] \n",
    "        \n",
    "    # Get Rank counting\n",
    "    rankbins = np.zeros(rank+1)\n",
    "    for i in range (len(y_pred)):        \n",
    "        for j in range (len(y_pred)):\n",
    "            if y_pred[i][j][0] == 0.0: #if distance is 0, it's the same vector                \n",
    "                continue\n",
    "            else:\n",
    "                if j > rank: #we are interested in evaluate only the rank-n                    \n",
    "                    rankbins[rank] += 1\n",
    "                    break;\n",
    "                else: \n",
    "                    if y[i] == y_pred[i][j][1]:                                                 \n",
    "                        rankbins[j] += 1                        \n",
    "                        break \n",
    "    \n",
    "    rank_rate = rankbins/sum(rankbins)                \n",
    "    return rank_rate"
   ]
  },
  {
   "cell_type": "code",
   "execution_count": null,
   "metadata": {},
   "outputs": [],
   "source": [
    "rate_lbp = getMetrics(\"calculated_features/awe-awet_lbp.csv\")\n",
    "rate_lbp[1]"
   ]
  },
  {
   "cell_type": "code",
   "execution_count": null,
   "metadata": {},
   "outputs": [],
   "source": [
    "rate_bsif = getMetrics(\"calculated_features/awe-awet_bsif.csv\")\n",
    "rate_bsif[1]"
   ]
  },
  {
   "cell_type": "code",
   "execution_count": null,
   "metadata": {},
   "outputs": [],
   "source": [
    "rate_lpq = getMetrics(\"calculated_features/awe-awet_lpq.csv\")\n",
    "rate_lpq[1]"
   ]
  },
  {
   "cell_type": "code",
   "execution_count": null,
   "metadata": {},
   "outputs": [],
   "source": [
    "rate_rilpq = getMetrics(\"calculated_features/awe-awet_rilpq.csv\")\n",
    "rate_rilpq[1]"
   ]
  },
  {
   "cell_type": "code",
   "execution_count": null,
   "metadata": {},
   "outputs": [],
   "source": [
    "rate_poem = getMetrics(\"calculated_features/awe-awet_poem.csv\")\n",
    "rate_poem[1]"
   ]
  },
  {
   "cell_type": "code",
   "execution_count": null,
   "metadata": {},
   "outputs": [],
   "source": [
    "rate_hog = getMetrics(\"calculated_features/awe-awet_hog.csv\")\n",
    "rate_hog[1]"
   ]
  },
  {
   "cell_type": "code",
   "execution_count": null,
   "metadata": {},
   "outputs": [],
   "source": [
    "rate_dsift = getMetrics(\"calculated_features/awe-awet_dsift.csv\")\n",
    "rate_dsift[1]"
   ]
  },
  {
   "cell_type": "markdown",
   "metadata": {},
   "source": [
    "### Plotting results"
   ]
  },
  {
   "cell_type": "code",
   "execution_count": 76,
   "metadata": {},
   "outputs": [
    {
     "data": {
      "image/png": "[encoded data removed]",
      "text/plain": [
       "<Figure size 432x288 with 1 Axes>"
      ]
     },
     "metadata": {
      "needs_background": "light"
     },
     "output_type": "display_data"
    }
   ],
   "source": [
    "plt.figure()\n",
    "line_hog, = plt.plot(np.cumsum(rate_hog))\n",
    "line_lbp, = plt.plot(np.cumsum(rate_lbp))\n",
    "line_lpq, = plt.plot(np.cumsum(rate_lpq))\n",
    "line_rilpq, = plt.plot(np.cumsum(rate_rilpq))\n",
    "line_bsif, = plt.plot(np.cumsum(rate_bsif))\n",
    "line_poem, = plt.plot(np.cumsum(rate_poem))\n",
    "line_dsift, = plt.plot(np.cumsum(rate_dsift))\n",
    "plt.legend((line_hog, line_lbp, line_lpq, line_rilpq, line_bsif, line_poem, line_dsift),\n",
    "           ('HOG', 'LBP', 'LPQ', 'RILPQ', 'BSIF', 'POEM', 'DSIFT'))\n",
    "plt.xlabel('Rank')\n",
    "plt.ylabel('Recognition Rate') #for each component\n",
    "#plt.title('Title')\n",
    "plt.show()\n",
    "plt.savefig('Rank_Handcrafted.png')"
   ]
  },
  {
   "cell_type": "code",
   "execution_count": null,
   "metadata": {},
   "outputs": [],
   "source": []
  }
 ],
 "metadata": {
  "kernelspec": {
   "display_name": "Python 3",
   "language": "python",
   "name": "python3"
  },
  "language_info": {
   "codemirror_mode": {
    "name": "ipython",
    "version": 3
   },
   "file_extension": ".py",
   "mimetype": "text/x-python",
   "name": "python",
   "nbconvert_exporter": "python",
   "pygments_lexer": "ipython3",
   "version": "3.6.7"
  }
 },
 "nbformat": 4,
 "nbformat_minor": 2
}
